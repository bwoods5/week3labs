{
 "cells": [
  {
   "cell_type": "markdown",
   "metadata": {},
   "source": [
    "## Welcome to Brady's Coffee Shop!"
   ]
  },
  {
   "cell_type": "markdown",
   "metadata": {},
   "source": [
    "The following code will allow you, the user, to order various products in any quantity you desire and see the price per unit and total price for the order. "
   ]
  },
  {
   "cell_type": "code",
   "execution_count": 15,
   "metadata": {},
   "outputs": [
    {
     "name": "stdout",
     "output_type": "stream",
     "text": [
      "Welcome! This kiosk sells coffee for you and your pets!\n",
      "Please place your order by selecting the beverage type and desired quantity.\n",
      "\n"
     ]
    }
   ],
   "source": [
    "print(\"Welcome! This kiosk sells coffee for you and your pets!\")\n",
    "print(\"Please place your order by selecting the beverage type and desired quantity.\\n\")\n"
   ]
  },
  {
   "cell_type": "markdown",
   "metadata": {},
   "source": [
    "### Defining Menu"
   ]
  },
  {
   "cell_type": "code",
   "execution_count": 16,
   "metadata": {},
   "outputs": [],
   "source": [
    "products = {\n",
    "    1: (\"Latte\", 4),\n",
    "    2: (\"Latte w/ Flavor\", 5),\n",
    "    3: (\"Drip Coffee\", 2.50),\n",
    "    4: (\"Breve\", 4.50),\n",
    "    5: (\"Pup Cup\", 0.75)\n",
    "}\n"
   ]
  },
  {
   "cell_type": "markdown",
   "metadata": {},
   "source": [
    "### Showing Menu"
   ]
  },
  {
   "cell_type": "code",
   "execution_count": 17,
   "metadata": {},
   "outputs": [
    {
     "name": "stdout",
     "output_type": "stream",
     "text": [
      "Here is the menu:\n",
      "\n",
      "|   | Product                        | Price   |\n",
      "| 1 | Latte                          | $4.00 |\n",
      "| 2 | Latte w/ Flavor                | $5.00 |\n",
      "| 3 | Drip Coffee                    | $2.50 |\n",
      "| 4 | Breve                          | $4.50 |\n",
      "| 5 | Pup Cup                        | $0.75 |\n"
     ]
    }
   ],
   "source": [
    "print(\"Here is the menu:\\n\")\n",
    "print(\"|   | Product                        | Price   |\")\n",
    "for key, value in products.items():\n",
    "    print(f\"| {key} | {value[0]:30} | ${value[1]:.2f} |\")\n"
   ]
  },
  {
   "cell_type": "markdown",
   "metadata": {},
   "source": [
    "### Initializing User Directory"
   ]
  },
  {
   "cell_type": "code",
   "execution_count": 18,
   "metadata": {},
   "outputs": [
    {
     "name": "stdout",
     "output_type": "stream",
     "text": [
      "\n",
      "You want 3 of Breve.\n",
      "The current total for your order is $13.50\n",
      "\n",
      "\n",
      "You want 6 of Pup Cup.\n",
      "The current total for your order is $18.00\n",
      "\n",
      "\n",
      "You want 7 of Pup Cup.\n",
      "The current total for your order is $18.75\n",
      "\n",
      "\n",
      "You want 1 of Latte.\n",
      "The current total for your order is $22.75\n",
      "\n",
      "\n",
      "You want 1 of Latte w/ Flavor.\n",
      "The current total for your order is $27.75\n",
      "\n"
     ]
    }
   ],
   "source": [
    "order = {key: 0 for key in products.keys()}\n",
    "\n",
    "total_cost = 0\n",
    "\n",
    "while True:\n",
    "    try:\n",
    "        product_choice = int(input(\"\\nWhat would you like to purchase? Please input the number of the product: \"))\n",
    "        if product_choice not in products:\n",
    "            print(\"That is not an option. Please try again.\")\n",
    "            continue\n",
    "        \n",
    "        quantity = int(input(\"How many would you like to purchase? \"))\n",
    "        if quantity <= 0:\n",
    "            print(\"Invalid quantity. Please enter a number greater than zero.\")\n",
    "            continue\n",
    "        \n",
    "        order[product_choice] += quantity\n",
    "        total_cost += products[product_choice][1] * quantity\n",
    "        \n",
    "        print(f\"\\nYou want {order[product_choice]} {products[product_choice][0]}.\")\n",
    "        print(f\"The current total for your order is ${total_cost:.2f}\\n\")\n",
    "        \n",
    "        \n",
    "        decision = input(\"If you are finished ordering, please input 1; otherwise, if you would like to add to your order, please input 2: \")\n",
    "        if decision == '1':\n",
    "            break\n",
    "        elif decision != '2':\n",
    "            print(\"That is not an option. Please try again.\")\n",
    "    except ValueError:\n",
    "        print(\"Invalid input. Please enter a number.\")\n",
    "\n"
   ]
  },
  {
   "cell_type": "markdown",
   "metadata": {},
   "source": [
    "### Order Summary"
   ]
  },
  {
   "cell_type": "code",
   "execution_count": 20,
   "metadata": {},
   "outputs": [
    {
     "name": "stdout",
     "output_type": "stream",
     "text": [
      "\n",
      "Here is a summary of your final order:\n",
      "\n",
      "| Product                        | Quantity |\n",
      "| Latte                          |    1     |\n",
      "| Latte w/ Flavor                |    1     |\n",
      "| Breve                          |    3     |\n",
      "| Pup Cup                        |    7     |\n",
      "\n",
      "The total cost for your order is $27.75. Please pay at the counter. Thank you for shopping at Brady's Coffee Shop!\n"
     ]
    }
   ],
   "source": [
    "print(\"\\nHere is a summary of your final order:\\n\")\n",
    "print(\"| Product                        | Quantity |\")\n",
    "for key, value in order.items():\n",
    "    if value > 0:\n",
    "        print(f\"| {products[key][0]:30} | {value:^8} |\")\n",
    "\n",
    "print(f\"\\nThe total cost for your order is ${total_cost:.2f}. Please pay at the counter. Thank you for shopping at Brady's Coffee Shop!\")"
   ]
  }
 ],
 "metadata": {
  "kernelspec": {
   "display_name": "base",
   "language": "python",
   "name": "python3"
  },
  "language_info": {
   "codemirror_mode": {
    "name": "ipython",
    "version": 3
   },
   "file_extension": ".py",
   "mimetype": "text/x-python",
   "name": "python",
   "nbconvert_exporter": "python",
   "pygments_lexer": "ipython3",
   "version": "3.12.4"
  }
 },
 "nbformat": 4,
 "nbformat_minor": 2
}
