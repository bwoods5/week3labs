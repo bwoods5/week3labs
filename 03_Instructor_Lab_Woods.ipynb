{
 "cells": [
  {
   "cell_type": "markdown",
   "metadata": {},
   "source": [
    "## Weclome!"
   ]
  },
  {
   "cell_type": "markdown",
   "metadata": {},
   "source": [
    "In this notebook, I will further explore temperature and add Kelvin into the equation. The following code will ask for two separate celsius values, and then explore comparison operators and logical operators discussed in the tutorial."
   ]
  },
  {
   "cell_type": "code",
   "execution_count": 2,
   "metadata": {},
   "outputs": [
    {
     "name": "stdout",
     "output_type": "stream",
     "text": [
      "Welcome to my Fahrenheit to Celsius converter!\n"
     ]
    }
   ],
   "source": [
    "print(\"Welcome to my Fahrenheit to Celsius converter!\")"
   ]
  },
  {
   "cell_type": "markdown",
   "metadata": {},
   "source": [
    "### Choosing First Celsius Value"
   ]
  },
  {
   "cell_type": "code",
   "execution_count": 3,
   "metadata": {},
   "outputs": [
    {
     "name": "stdout",
     "output_type": "stream",
     "text": [
      "5.0 degrees Celsius is 41.0 degrees Fahrenheit which is 278.15 degrees Kelvin.\n",
      "\n"
     ]
    }
   ],
   "source": [
    "celsius = float(input(\"Please provide a value, in Celsius, to convert: \"))\n",
    "fahrenheit = (celsius * 9/5) + 32\n",
    "kelvin = celsius + 273.15\n",
    "print(f\"{celsius} degrees Celsius is {fahrenheit} degrees Fahrenheit which is {kelvin} degrees Kelvin.\\n\")\n"
   ]
  },
  {
   "cell_type": "markdown",
   "metadata": {},
   "source": [
    "### Choosing Second Celsius Value"
   ]
  },
  {
   "cell_type": "code",
   "execution_count": 4,
   "metadata": {},
   "outputs": [
    {
     "name": "stdout",
     "output_type": "stream",
     "text": [
      "Second set of values: 10.0 degrees Celsius is 50.0 degrees Fahrenheit which is 283.15 degrees Kelvin.\n",
      "\n"
     ]
    }
   ],
   "source": [
    "celsius_two = float(input(\"Please provide another value, in Celsius, to convert: \"))\n",
    "fahrenheit_two = (celsius_two * 9/5) + 32\n",
    "kelvin_two = celsius_two + 273.15\n",
    "print(f\"Second set of values: {celsius_two} degrees Celsius is {fahrenheit_two} degrees Fahrenheit which is {kelvin_two} degrees Kelvin.\\n\")"
   ]
  },
  {
   "cell_type": "markdown",
   "metadata": {},
   "source": [
    "### Comparison Operators and Logical Operators"
   ]
  },
  {
   "cell_type": "code",
   "execution_count": 5,
   "metadata": {},
   "outputs": [
    {
     "name": "stdout",
     "output_type": "stream",
     "text": [
      "The original Celsius value of 5.0 is smaller than the new value of 10.0.\n",
      "The original Fahrenheit value of 41.0 is smaller than the new value of 50.0.\n",
      "The original Kelvin value of 278.15 is less than or equal to the new value of 283.15.\n",
      "\n",
      "celsius == celsius_two and fahrenheit < fahrenheit_two\n",
      "Python lies.\n",
      "\n",
      "celsius == celsius_two or kelvin != kelvin_two\n",
      "Python speaks the truth!\n"
     ]
    }
   ],
   "source": [
    "\n",
    "if celsius > celsius_two:\n",
    "    print(f\"The original Celsius value of {celsius} is larger than the new value of {celsius_two}.\")\n",
    "elif celsius < celsius_two:\n",
    "    print(f\"The original Celsius value of {celsius} is smaller than the new value of {celsius_two}.\")\n",
    "else:\n",
    "    print(f\"The original Celsius value of {celsius} equals the new value of {celsius_two}.\")\n",
    "\n",
    "if fahrenheit >= fahrenheit_two:\n",
    "    print(f\"The original Fahrenheit value of {fahrenheit} is greater than or equal to the new value of {fahrenheit_two}.\")\n",
    "elif fahrenheit < fahrenheit_two:\n",
    "    print(f\"The original Fahrenheit value of {fahrenheit} is smaller than the new value of {fahrenheit_two}.\")\n",
    "else:\n",
    "    print(f\"The original Fahrenheit value of {fahrenheit} is equal to {fahrenheit_two}.\")\n",
    "\n",
    "if kelvin <= kelvin_two:\n",
    "    print(f\"The original Kelvin value of {kelvin} is less than or equal to the new value of {kelvin_two}.\")\n",
    "elif kelvin < kelvin_two:\n",
    "    print(f\"The original Kelvin value of {kelvin} is smaller than the new value of {kelvin_two}.\")\n",
    "else:\n",
    "    print(f\"The original Kelvin value of {kelvin} is not equal to the new value of {kelvin_two}.\")\n",
    "\n",
    "\n",
    "print(\"\\ncelsius == celsius_two and fahrenheit < fahrenheit_two\")\n",
    "if celsius == celsius_two and fahrenheit < fahrenheit_two:\n",
    "    print(\"Python speaks the truth!\")\n",
    "else:\n",
    "    print(\"Python lies.\")\n",
    "\n",
    "print(\"\\ncelsius == celsius_two or kelvin != kelvin_two\")\n",
    "if celsius == celsius_two or kelvin != kelvin_two:\n",
    "    print(\"Python speaks the truth!\")\n",
    "else:\n",
    "    print(\"Python lies.\")\n"
   ]
  }
 ],
 "metadata": {
  "kernelspec": {
   "display_name": "base",
   "language": "python",
   "name": "python3"
  },
  "language_info": {
   "codemirror_mode": {
    "name": "ipython",
    "version": 3
   },
   "file_extension": ".py",
   "mimetype": "text/x-python",
   "name": "python",
   "nbconvert_exporter": "python",
   "pygments_lexer": "ipython3",
   "version": "3.12.4"
  }
 },
 "nbformat": 4,
 "nbformat_minor": 2
}
